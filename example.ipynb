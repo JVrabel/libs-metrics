{
 "cells": [
  {
   "cell_type": "code",
   "execution_count": 1,
   "metadata": {},
   "outputs": [],
   "source": [
    "import numpy as np\n",
    "import h5py"
   ]
  },
  {
   "cell_type": "code",
   "execution_count": 5,
   "metadata": {},
   "outputs": [
    {
     "name": "stderr",
     "output_type": "stream",
     "text": [
      " 58%|█████▊    | 7/12 [01:02<00:40,  8.16s/it]"
     ]
    }
   ],
   "source": [
    "from src.load_script import load_contest_train_dataset\n",
    "from sklearn.model_selection import train_test_split\n",
    "\n",
    "if True:\n",
    "    X, y, samples = load_contest_train_dataset('datasets/contest_TRAIN.h5', 10)\n",
    "    wavelengths = X.columns\n",
    "\n",
    "    X_train, X_test, y_train, y_test = train_test_split(X, y, test_size=0.33, random_state=42, stratify=samples)\n",
    "    del X, y, samples\n",
    "else:\n",
    "    X_train = np.load(open('datasets/x_train.npy', 'rb'))\n",
    "    y_train = np.load(open('datasets/y_train.npy', 'rb'))\n",
    "    X_test = np.load(open('datasets/x_test.npy', 'rb'))\n",
    "    y_test = np.load(open('datasets/y_test.npy', 'rb'))\n",
    "    wavelengths = np.load(open('datasets/wavelengths.npy', 'rb'))"
   ]
  },
  {
   "cell_type": "code",
   "execution_count": null,
   "metadata": {},
   "outputs": [],
   "source": [
    "from sklearn.preprocessing import RobustScaler\n",
    "from sklearn.pipeline import Pipeline\n",
    "from sklearn.decomposition import PCA\n",
    "from sklearn.neighbors import KNeighborsClassifier\n",
    "from sklearn.model_selection import GridSearchCV\n",
    "from sklearn.metrics import mutual_info_score\n",
    "\n",
    "def euclid(a, b):\n",
    "    return np.linalg.norm(a - b)\n",
    "\n",
    "def cosine(a, b):\n",
    "    return 1 - np.dot(a, b) / np.linalg.norm(a) / np.linalg.norm(b)\n",
    "\n",
    "def direct_mutual_information(x, y, bins=100):\n",
    "    c_xy, _, _ = np.histogram2d(x, y, bins)\n",
    "    return - mutual_info_score(None, None, contingency=c_xy)\n",
    "\n",
    "def mutual_information(a, b, bins=100):\n",
    "    hgram, _, _ = np.histogram2d(a, b)\n",
    "    pxy = hgram / float(np.sum(hgram))\n",
    "    px = np.sum(pxy, axis=1)\n",
    "    py = np.sum(pxy, axis=0)\n",
    "    px_py = px[:, None] * py[None, :]\n",
    "    nzs = pxy > 0\n",
    "    return - np.sum(pxy[nzs] * np.log(pxy[nzs] / px_py[nzs]))\n",
    "\n",
    "\n",
    "models = []\n",
    "for metric in [euclid, cosine, mutual_information]: # cosine\n",
    "    pipe = Pipeline([\n",
    "        #('scaling', RobustScaler(unit_variance=True)),\n",
    "        #('pca', PCA(whiten=False)),\n",
    "        ('clf', KNeighborsClassifier(metric=metric, n_neighbors=5)),\n",
    "    ])\n",
    "\n",
    "    models.append(pipe.fit(X_train, y_train))"
   ]
  },
  {
   "cell_type": "code",
   "execution_count": null,
   "metadata": {},
   "outputs": [
    {
     "name": "stdout",
     "output_type": "stream",
     "text": [
      "euclid\n",
      "              precision    recall  f1-score   support\n",
      "\n",
      "           1       0.32      0.64      0.42        11\n",
      "           2       0.34      0.58      0.43        19\n",
      "           3       0.22      0.40      0.29         5\n",
      "           4       0.78      0.88      0.82         8\n",
      "           5       0.50      0.33      0.40         9\n",
      "           6       1.00      0.80      0.89        10\n",
      "           7       0.33      0.14      0.20         7\n",
      "           8       0.67      0.36      0.47        11\n",
      "           9       0.75      0.79      0.77        19\n",
      "          10       0.83      0.83      0.83         6\n",
      "          11       1.00      0.44      0.62        18\n",
      "          12       1.00      0.33      0.50         9\n",
      "\n",
      "    accuracy                           0.56       132\n",
      "   macro avg       0.65      0.54      0.55       132\n",
      "weighted avg       0.67      0.56      0.57       132\n",
      "\n",
      "================================================================================\n",
      "cosine\n",
      "              precision    recall  f1-score   support\n",
      "\n",
      "           1       0.48      0.91      0.62        11\n",
      "           2       0.68      0.89      0.77        19\n",
      "           3       0.33      0.60      0.43         5\n",
      "           4       0.71      0.62      0.67         8\n",
      "           5       0.46      0.67      0.55         9\n",
      "           6       1.00      0.90      0.95        10\n",
      "           7       1.00      0.14      0.25         7\n",
      "           8       0.80      0.36      0.50        11\n",
      "           9       0.88      0.79      0.83        19\n",
      "          10       0.86      1.00      0.92         6\n",
      "          11       1.00      0.67      0.80        18\n",
      "          12       1.00      0.67      0.80         9\n",
      "\n",
      "    accuracy                           0.71       132\n",
      "   macro avg       0.77      0.69      0.67       132\n",
      "weighted avg       0.79      0.71      0.71       132\n",
      "\n",
      "================================================================================\n",
      "mutual_information\n",
      "              precision    recall  f1-score   support\n",
      "\n",
      "           1       0.36      0.82      0.50        11\n",
      "           2       0.57      0.68      0.62        19\n",
      "           3       0.00      0.00      0.00         5\n",
      "           4       1.00      0.50      0.67         8\n",
      "           5       1.00      0.22      0.36         9\n",
      "           6       1.00      0.80      0.89        10\n",
      "           7       0.00      0.00      0.00         7\n",
      "           8       1.00      0.36      0.53        11\n",
      "           9       0.62      0.68      0.65        19\n",
      "          10       0.75      0.50      0.60         6\n",
      "          11       0.87      0.72      0.79        18\n",
      "          12       1.00      0.56      0.71         9\n",
      "\n",
      "    accuracy                           0.56       132\n",
      "   macro avg       0.68      0.49      0.53       132\n",
      "weighted avg       0.71      0.56      0.58       132\n",
      "\n",
      "================================================================================\n"
     ]
    },
    {
     "name": "stderr",
     "output_type": "stream",
     "text": [
      "c:\\Users\\Pavel\\Desktop\\git\\libs-metrics\\.venv\\lib\\site-packages\\sklearn\\metrics\\_classification.py:1334: UndefinedMetricWarning: Precision and F-score are ill-defined and being set to 0.0 in labels with no predicted samples. Use `zero_division` parameter to control this behavior.\n",
      "  _warn_prf(average, modifier, msg_start, len(result))\n",
      "c:\\Users\\Pavel\\Desktop\\git\\libs-metrics\\.venv\\lib\\site-packages\\sklearn\\metrics\\_classification.py:1334: UndefinedMetricWarning: Precision and F-score are ill-defined and being set to 0.0 in labels with no predicted samples. Use `zero_division` parameter to control this behavior.\n",
      "  _warn_prf(average, modifier, msg_start, len(result))\n",
      "c:\\Users\\Pavel\\Desktop\\git\\libs-metrics\\.venv\\lib\\site-packages\\sklearn\\metrics\\_classification.py:1334: UndefinedMetricWarning: Precision and F-score are ill-defined and being set to 0.0 in labels with no predicted samples. Use `zero_division` parameter to control this behavior.\n",
      "  _warn_prf(average, modifier, msg_start, len(result))\n"
     ]
    }
   ],
   "source": [
    "from sklearn.metrics import classification_report\n",
    "for model, model_name in zip(models, ['euclid', 'cosine', 'mutual_information']):\n",
    "    print(model_name, sep=', best params were: ')\n",
    "    print(classification_report(y_test, model.predict(X_test)))\n",
    "    print('=' * 80)"
   ]
  }
 ],
 "metadata": {
  "kernelspec": {
   "display_name": "Python 3.10.7 ('.venv': venv)",
   "language": "python",
   "name": "python3"
  },
  "language_info": {
   "codemirror_mode": {
    "name": "ipython",
    "version": 3
   },
   "file_extension": ".py",
   "mimetype": "text/x-python",
   "name": "python",
   "nbconvert_exporter": "python",
   "pygments_lexer": "ipython3",
   "version": "3.10.7"
  },
  "orig_nbformat": 4,
  "vscode": {
   "interpreter": {
    "hash": "ad90a14a32c32d4ba756f8759499d9bc0da639f81635e6fe72a7188422a202ae"
   }
  }
 },
 "nbformat": 4,
 "nbformat_minor": 2
}
