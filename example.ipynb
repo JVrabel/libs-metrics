{
 "cells": [
  {
   "cell_type": "code",
   "execution_count": null,
   "metadata": {},
   "outputs": [],
   "source": [
    "import math\n",
    "import numpy as np\n",
    "from src.rowwise_metrics import direct_mutual_information, euclid, cosine\n",
    "from src.simulation import get_spectrum"
   ]
  },
  {
   "cell_type": "code",
   "execution_count": null,
   "metadata": {},
   "outputs": [],
   "source": [
    "from src.simulation import get_spectra\n",
    "\n",
    "n = 20\n",
    "spectra, calibration = get_spectra(n, ['Fe', 'Al'], save=True)"
   ]
  },
  {
   "cell_type": "code",
   "execution_count": null,
   "metadata": {},
   "outputs": [],
   "source": [
    "from libs_tools.visualization.spectral import plot_spectra"
   ]
  },
  {
   "cell_type": "code",
   "execution_count": null,
   "metadata": {},
   "outputs": [],
   "source": [
    "plot_spectra(spectra[:5], calibration)"
   ]
  },
  {
   "cell_type": "code",
   "execution_count": null,
   "metadata": {},
   "outputs": [],
   "source": [
    "metrics = [euclid, cosine, direct_mutual_information]\n",
    "matrices = [np.zeros((n, n)) for _ in metrics]\n",
    "for i in range(len(metrics)):\n",
    "    for j in range(n):\n",
    "        for k in range(n):\n",
    "            matrices[i][j][k] = metrics[i](spectra[j], spectra[k])"
   ]
  },
  {
   "cell_type": "code",
   "execution_count": null,
   "metadata": {},
   "outputs": [],
   "source": [
    "import plotly.express as px\n",
    "px.imshow(matrices[0])"
   ]
  },
  {
   "cell_type": "code",
   "execution_count": null,
   "metadata": {},
   "outputs": [],
   "source": [
    "px.imshow(matrices[1])"
   ]
  },
  {
   "cell_type": "code",
   "execution_count": null,
   "metadata": {},
   "outputs": [],
   "source": [
    "px.imshow(matrices[2])"
   ]
  },
  {
   "cell_type": "code",
   "execution_count": null,
   "metadata": {},
   "outputs": [],
   "source": [
    "labels = np.linspace(0, 100, n)\n",
    "y_true = np.zeros((n, n))\n",
    "for i in range(n):\n",
    "    for j in range(n):\n",
    "        y_true[i][j] = abs(labels[i] - labels[j])"
   ]
  },
  {
   "cell_type": "code",
   "execution_count": null,
   "metadata": {},
   "outputs": [],
   "source": [
    "px.imshow(y_true)"
   ]
  },
  {
   "cell_type": "code",
   "execution_count": null,
   "metadata": {},
   "outputs": [],
   "source": [
    "px.imshow(abs((y_true / y_true.max()) - (matrices[0] / matrices[0].max())))"
   ]
  },
  {
   "cell_type": "code",
   "execution_count": null,
   "metadata": {},
   "outputs": [],
   "source": [
    "from libs_tools.visualization.spectral import plot_spectra\n",
    "\n",
    "matrices[0] = matrices[0] / matrices[0][0].max()\n",
    "matrices[2] = matrices[2] - matrices[2][0].min()\n",
    "plot_spectra([matrix[0] for matrix in matrices], labels=[foo.__name__ for foo in metrics])"
   ]
  }
 ],
 "metadata": {
  "kernelspec": {
   "display_name": "Python 3.10.7 ('.venv': venv)",
   "language": "python",
   "name": "python3"
  },
  "language_info": {
   "codemirror_mode": {
    "name": "ipython",
    "version": 3
   },
   "file_extension": ".py",
   "mimetype": "text/x-python",
   "name": "python",
   "nbconvert_exporter": "python",
   "pygments_lexer": "ipython3",
   "version": "3.10.7"
  },
  "orig_nbformat": 4,
  "vscode": {
   "interpreter": {
    "hash": "188adf7467e086a5f2d47f8040ccbdd672d00c1f14d6c2dcafdd2bf03593d8c3"
   }
  }
 },
 "nbformat": 4,
 "nbformat_minor": 2
}
