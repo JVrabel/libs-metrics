{
 "cells": [
  {
   "cell_type": "code",
   "execution_count": null,
   "metadata": {},
   "outputs": [],
   "source": [
    "import numpy as np\n",
    "import h5py"
   ]
  },
  {
   "cell_type": "code",
   "execution_count": 5,
   "metadata": {},
   "outputs": [],
   "source": [
    "from src.load_script import load_contest_train_dataset\n",
    "from sklearn.model_selection import train_test_split\n",
    "\n",
    "if True:\n",
    "    X, y, samples = load_contest_train_dataset('datasets/contest_TRAIN.h5', 10)\n",
    "    wavelengths = X.columns\n",
    "\n",
    "    X_train, X_test, y_train, y_test = train_test_split(X, y, test_size=0.33, random_state=42, stratify=samples)\n",
    "    del X, y, samples\n",
    "else:\n",
    "    X_train = np.load(open('datasets/x_train.npy', 'rb'))\n",
    "    y_train = np.load(open('datasets/y_train.npy', 'rb'))\n",
    "    X_test = np.load(open('datasets/x_test.npy', 'rb'))\n",
    "    y_test = np.load(open('datasets/y_test.npy', 'rb'))\n",
    "    wavelengths = np.load(open('datasets/wavelengths.npy', 'rb'))"
   ]
  },
  {
   "cell_type": "code",
   "execution_count": null,
   "metadata": {},
   "outputs": [],
   "source": [
    "from sklearn.preprocessing import RobustScaler\n",
    "from sklearn.pipeline import Pipeline\n",
    "from sklearn.decomposition import PCA\n",
    "from sklearn.neighbors import KNeighborsClassifier\n",
    "from sklearn.model_selection import GridSearchCV\n",
    "from sklearn.metrics import mutual_info_score\n",
    "from sklearn.preprocessing import Normalizer\n",
    "\n",
    "def euclid(a, b):\n",
    "    return np.linalg.norm(a - b)\n",
    "\n",
    "def cosine(a, b):\n",
    "    return 1 - np.dot(a, b) / np.linalg.norm(a) / np.linalg.norm(b)\n",
    "\n",
    "def direct_mutual_information(x, y, bins=100):\n",
    "    c_xy, _, _ = np.histogram2d(x, y, bins)\n",
    "    return - mutual_info_score(None, None, contingency=c_xy)\n",
    "\n",
    "def mutual_information(a, b, bins=100):\n",
    "    hgram, _, _ = np.histogram2d(a, b)\n",
    "    pxy = hgram / float(np.sum(hgram))\n",
    "    px = np.sum(pxy, axis=1)\n",
    "    py = np.sum(pxy, axis=0)\n",
    "    px_py = px[:, None] * py[None, :]\n",
    "    nzs = pxy > 0\n",
    "    return - np.sum(pxy[nzs] * np.log(pxy[nzs] / px_py[nzs]))\n",
    "\n",
    "\n",
    "models = []\n",
    "for metric in [mutual_information]:\n",
    "    pipe = Pipeline([\n",
    "        #('scaling', RobustScaler(unit_variance=True)),\n",
    "        #('pca', PCA(whiten=False)),\n",
    "        ('normalize', Normalizer(norm='max')),\n",
    "        ('clf', KNeighborsClassifier(metric=metric, n_neighbors=5)),\n",
    "    ])\n",
    "    params = {\n",
    "        'clf__metric'  : [lambda x, y: mutual_information(x, y, bins) for bins in [10, 100, 1000]],\n",
    "    }\n",
    "    gs = GridSearchCV(pipe, params, verbose=3, cv=2).fit(X_train, y_train)\n",
    "    models.append(gs.best_estimator_)"
   ]
  },
  {
   "cell_type": "code",
   "execution_count": null,
   "metadata": {},
   "outputs": [],
   "source": [
    "from sklearn.metrics import classification_report\n",
    "for model, model_name in zip(models, ['euclid', 'cosine', 'mutual_information']):\n",
    "    print(model_name, sep=', best params were: ')\n",
    "    print(classification_report(y_test, model.predict(X_test)))\n",
    "    print('=' * 80)"
   ]
  }
 ],
 "metadata": {
  "kernelspec": {
   "display_name": "Python 3.10.7 ('.venv': venv)",
   "language": "python",
   "name": "python3"
  },
  "language_info": {
   "codemirror_mode": {
    "name": "ipython",
    "version": 3
   },
   "file_extension": ".py",
   "mimetype": "text/x-python",
   "name": "python",
   "nbconvert_exporter": "python",
   "pygments_lexer": "ipython3",
   "version": "3.10.7"
  },
  "orig_nbformat": 4,
  "vscode": {
   "interpreter": {
    "hash": "ad90a14a32c32d4ba756f8759499d9bc0da639f81635e6fe72a7188422a202ae"
   }
  }
 },
 "nbformat": 4,
 "nbformat_minor": 2
}
