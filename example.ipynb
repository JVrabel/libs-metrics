{
 "cells": [
  {
   "cell_type": "code",
   "execution_count": null,
   "metadata": {},
   "outputs": [],
   "source": [
    "import numpy as np\n",
    "from src.rowwise_metrics import direct_mutual_information, euclid, cosine\n",
    "from src.simulation import get_spectrum"
   ]
  },
  {
   "cell_type": "code",
   "execution_count": null,
   "metadata": {},
   "outputs": [],
   "source": [
    "PARAMS = dict(\n",
    "    Te=1.0,\n",
    "    Ne=10**18,\n",
    "    resolution=10000,\n",
    "    low_w=200,\n",
    "    upper_w=1000,\n",
    "    max_ion_charge=3,\n",
    "    webscraping='dynamic',\n",
    ")\n",
    "\n",
    "n = 20\n",
    "elements = sorted(['Fe', 'Al']) # WARNING! sorts the elements in alphabetical order to prevent duplicities\n",
    "path = f'data/{elements}_{n}.npy'\n",
    "try:\n",
    "    spectra = np.load(open(path, 'rb'), allow_pickle=True) # TODO allow pickle ?\n",
    "except OSError:\n",
    "    if not input(\"Data not found. Input empty string to dowload the data.\"):\n",
    "        spectra = np.stack(\n",
    "            list(map(\n",
    "            lambda x: get_spectrum(\n",
    "                elements=elements,\n",
    "                percentages=[x,100-x],\n",
    "                **PARAMS,\n",
    "            ),\n",
    "            np.linspace(0, 100, n), \n",
    "            )),\n",
    "            axis=0,\n",
    "        )\n",
    "        np.save(open(path, 'wb'), spectra)"
   ]
  },
  {
   "cell_type": "code",
   "execution_count": null,
   "metadata": {},
   "outputs": [],
   "source": [
    "metrics = [euclid, cosine, direct_mutual_information]\n",
    "matrices = [np.zeros((n, n)) for _ in metrics]\n",
    "for i in range(len(metrics)):\n",
    "    for j in range(1, n-1):\n",
    "        for k in range(1, n-1):\n",
    "            matrices[i][j][k] = metrics[i](spectra[j] / np.sum(spectra[j]), spectra[k] / np.sum(spectra[k]))"
   ]
  },
  {
   "cell_type": "code",
   "execution_count": null,
   "metadata": {},
   "outputs": [],
   "source": [
    "import plotly.express as px\n",
    "px.imshow(matrices[0])"
   ]
  },
  {
   "cell_type": "code",
   "execution_count": null,
   "metadata": {},
   "outputs": [],
   "source": [
    "px.imshow(matrices[1])"
   ]
  },
  {
   "cell_type": "code",
   "execution_count": null,
   "metadata": {},
   "outputs": [],
   "source": [
    "px.imshow(matrices[2])"
   ]
  },
  {
   "cell_type": "code",
   "execution_count": null,
   "metadata": {},
   "outputs": [],
   "source": [
    "from libs_tools.visualization.spectral import plot_spectra\n",
    "\n",
    "matrices[0] = matrices[0] / matrices[0][0].max()\n",
    "matrices[2] = matrices[2] - matrices[2][0].min()\n",
    "plot_spectra([matrix[0] for matrix in matrices], labels=[foo.__name__ for foo in metrics])"
   ]
  }
 ],
 "metadata": {
  "kernelspec": {
   "display_name": "Python 3.10.7 ('.venv': venv)",
   "language": "python",
   "name": "python3"
  },
  "language_info": {
   "codemirror_mode": {
    "name": "ipython",
    "version": 3
   },
   "file_extension": ".py",
   "mimetype": "text/x-python",
   "name": "python",
   "nbconvert_exporter": "python",
   "pygments_lexer": "ipython3",
   "version": "3.10.9 (tags/v3.10.9:1dd9be6, Dec  6 2022, 20:01:21) [MSC v.1934 64 bit (AMD64)]"
  },
  "orig_nbformat": 4,
  "vscode": {
   "interpreter": {
    "hash": "ad90a14a32c32d4ba756f8759499d9bc0da639f81635e6fe72a7188422a202ae"
   }
  }
 },
 "nbformat": 4,
 "nbformat_minor": 2
}
